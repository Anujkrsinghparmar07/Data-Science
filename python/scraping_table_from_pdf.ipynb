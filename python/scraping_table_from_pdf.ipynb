{
 "cells": [
  {
   "cell_type": "code",
   "execution_count": 1,
   "id": "f4931701-96aa-4cd9-b632-8028e81c4855",
   "metadata": {},
   "outputs": [],
   "source": [
    "#create virtual environment first\n",
    "!python -m venv myenv"
   ]
  },
  {
   "cell_type": "code",
   "execution_count": 2,
   "id": "f47e7c87-9d3f-43d2-8474-fbf7c4a908e5",
   "metadata": {},
   "outputs": [],
   "source": [
    "!myenv\\Scripts\\activate"
   ]
  },
  {
   "cell_type": "markdown",
   "id": "a7350a37-e91e-4fff-afbb-eb0a49b8dddf",
   "metadata": {},
   "source": [
    "!conda deactivate"
   ]
  },
  {
   "cell_type": "code",
   "execution_count": 7,
   "id": "cc5d46d8-5fae-4ac4-8d47-ad02426f8614",
   "metadata": {},
   "outputs": [
    {
     "name": "stdout",
     "output_type": "stream",
     "text": [
      "Collecting ghostscript\n",
      "  Downloading ghostscript-0.7-py2.py3-none-any.whl.metadata (4.4 kB)\n",
      "Requirement already satisfied: setuptools>=38.6.0 in c:\\users\\asus\\anaconda3\\lib\\site-packages (from ghostscript) (75.1.0)\n",
      "Downloading ghostscript-0.7-py2.py3-none-any.whl (25 kB)\n",
      "Installing collected packages: ghostscript\n",
      "Successfully installed ghostscript-0.7\n",
      "Collecting camelot-py\n",
      "  Downloading camelot_py-1.0.0-py3-none-any.whl.metadata (9.4 kB)\n",
      "Requirement already satisfied: click>=8.0.1 in c:\\users\\asus\\anaconda3\\lib\\site-packages (from camelot-py) (8.1.7)\n",
      "Collecting chardet>=5.1.0 (from camelot-py)\n",
      "  Downloading chardet-5.2.0-py3-none-any.whl.metadata (3.4 kB)\n",
      "Requirement already satisfied: numpy>=1.26.1 in c:\\users\\asus\\anaconda3\\lib\\site-packages (from camelot-py) (1.26.4)\n",
      "Requirement already satisfied: openpyxl>=3.1.0 in c:\\users\\asus\\anaconda3\\lib\\site-packages (from camelot-py) (3.1.5)\n",
      "Collecting pdfminer-six>=20240706 (from camelot-py)\n",
      "  Downloading pdfminer_six-20250327-py3-none-any.whl.metadata (4.1 kB)\n",
      "Collecting pypdf<6.0,>=4.0 (from camelot-py)\n",
      "  Downloading pypdf-5.4.0-py3-none-any.whl.metadata (7.3 kB)\n",
      "Requirement already satisfied: pandas>=2.2.2 in c:\\users\\asus\\anaconda3\\lib\\site-packages (from camelot-py) (2.2.2)\n",
      "Requirement already satisfied: tabulate>=0.9.0 in c:\\users\\asus\\anaconda3\\lib\\site-packages (from camelot-py) (0.9.0)\n",
      "Collecting opencv-python-headless>=4.7.0.68 (from camelot-py)\n",
      "  Downloading opencv_python_headless-4.11.0.86-cp37-abi3-win_amd64.whl.metadata (20 kB)\n",
      "Collecting pypdfium2>=4 (from camelot-py)\n",
      "  Downloading pypdfium2-4.30.1-py3-none-win_amd64.whl.metadata (48 kB)\n",
      "Requirement already satisfied: colorama in c:\\users\\asus\\anaconda3\\lib\\site-packages (from click>=8.0.1->camelot-py) (0.4.6)\n",
      "Requirement already satisfied: et-xmlfile in c:\\users\\asus\\anaconda3\\lib\\site-packages (from openpyxl>=3.1.0->camelot-py) (1.1.0)\n",
      "Requirement already satisfied: python-dateutil>=2.8.2 in c:\\users\\asus\\anaconda3\\lib\\site-packages (from pandas>=2.2.2->camelot-py) (2.9.0.post0)\n",
      "Requirement already satisfied: pytz>=2020.1 in c:\\users\\asus\\anaconda3\\lib\\site-packages (from pandas>=2.2.2->camelot-py) (2024.1)\n",
      "Requirement already satisfied: tzdata>=2022.7 in c:\\users\\asus\\anaconda3\\lib\\site-packages (from pandas>=2.2.2->camelot-py) (2023.3)\n",
      "Requirement already satisfied: charset-normalizer>=2.0.0 in c:\\users\\asus\\anaconda3\\lib\\site-packages (from pdfminer-six>=20240706->camelot-py) (3.3.2)\n",
      "Requirement already satisfied: cryptography>=36.0.0 in c:\\users\\asus\\anaconda3\\lib\\site-packages (from pdfminer-six>=20240706->camelot-py) (43.0.0)\n",
      "Requirement already satisfied: cffi>=1.12 in c:\\users\\asus\\anaconda3\\lib\\site-packages (from cryptography>=36.0.0->pdfminer-six>=20240706->camelot-py) (1.17.1)\n",
      "Requirement already satisfied: six>=1.5 in c:\\users\\asus\\anaconda3\\lib\\site-packages (from python-dateutil>=2.8.2->pandas>=2.2.2->camelot-py) (1.16.0)\n",
      "Requirement already satisfied: pycparser in c:\\users\\asus\\anaconda3\\lib\\site-packages (from cffi>=1.12->cryptography>=36.0.0->pdfminer-six>=20240706->camelot-py) (2.21)\n",
      "Downloading camelot_py-1.0.0-py3-none-any.whl (66 kB)\n",
      "Downloading chardet-5.2.0-py3-none-any.whl (199 kB)\n",
      "Downloading opencv_python_headless-4.11.0.86-cp37-abi3-win_amd64.whl (39.4 MB)\n",
      "   ---------------------------------------- 0.0/39.4 MB ? eta -:--:--\n",
      "    --------------------------------------- 0.5/39.4 MB 2.8 MB/s eta 0:00:14\n",
      "   - -------------------------------------- 1.0/39.4 MB 2.8 MB/s eta 0:00:14\n",
      "   - -------------------------------------- 1.8/39.4 MB 3.1 MB/s eta 0:00:12\n",
      "   -- ------------------------------------- 2.6/39.4 MB 3.3 MB/s eta 0:00:12\n",
      "   --- ------------------------------------ 3.4/39.4 MB 3.2 MB/s eta 0:00:12\n",
      "   ---- ----------------------------------- 4.2/39.4 MB 3.4 MB/s eta 0:00:11\n",
      "   ----- ---------------------------------- 5.0/39.4 MB 3.5 MB/s eta 0:00:10\n",
      "   ----- ---------------------------------- 5.8/39.4 MB 3.5 MB/s eta 0:00:10\n",
      "   ------ --------------------------------- 6.6/39.4 MB 3.6 MB/s eta 0:00:10\n",
      "   ------- -------------------------------- 7.6/39.4 MB 3.6 MB/s eta 0:00:09\n",
      "   -------- ------------------------------- 8.4/39.4 MB 3.6 MB/s eta 0:00:09\n",
      "   --------- ------------------------------ 9.2/39.4 MB 3.7 MB/s eta 0:00:09\n",
      "   ---------- ----------------------------- 10.0/39.4 MB 3.6 MB/s eta 0:00:09\n",
      "   ---------- ----------------------------- 10.7/39.4 MB 3.6 MB/s eta 0:00:08\n",
      "   ----------- ---------------------------- 11.5/39.4 MB 3.7 MB/s eta 0:00:08\n",
      "   ------------ --------------------------- 12.6/39.4 MB 3.7 MB/s eta 0:00:08\n",
      "   ------------- -------------------------- 13.4/39.4 MB 3.7 MB/s eta 0:00:07\n",
      "   -------------- ------------------------- 14.2/39.4 MB 3.8 MB/s eta 0:00:07\n",
      "   --------------- ------------------------ 15.2/39.4 MB 3.8 MB/s eta 0:00:07\n",
      "   ---------------- ----------------------- 16.0/39.4 MB 3.8 MB/s eta 0:00:07\n",
      "   ----------------- ---------------------- 16.8/39.4 MB 3.8 MB/s eta 0:00:06\n",
      "   ------------------ --------------------- 17.8/39.4 MB 3.8 MB/s eta 0:00:06\n",
      "   ------------------ --------------------- 18.6/39.4 MB 3.8 MB/s eta 0:00:06\n",
      "   ------------------- -------------------- 19.7/39.4 MB 3.9 MB/s eta 0:00:06\n",
      "   --------------------- ------------------ 20.7/39.4 MB 3.9 MB/s eta 0:00:05\n",
      "   --------------------- ------------------ 21.5/39.4 MB 3.9 MB/s eta 0:00:05\n",
      "   ---------------------- ----------------- 22.3/39.4 MB 3.9 MB/s eta 0:00:05\n",
      "   ----------------------- ---------------- 22.8/39.4 MB 3.9 MB/s eta 0:00:05\n",
      "   ----------------------- ---------------- 23.6/39.4 MB 3.8 MB/s eta 0:00:05\n",
      "   ------------------------- -------------- 24.6/39.4 MB 3.8 MB/s eta 0:00:04\n",
      "   ------------------------- -------------- 25.4/39.4 MB 3.8 MB/s eta 0:00:04\n",
      "   -------------------------- ------------- 26.0/39.4 MB 3.8 MB/s eta 0:00:04\n",
      "   -------------------------- ------------- 26.5/39.4 MB 3.8 MB/s eta 0:00:04\n",
      "   --------------------------- ------------ 27.3/39.4 MB 3.8 MB/s eta 0:00:04\n",
      "   ---------------------------- ----------- 28.0/39.4 MB 3.8 MB/s eta 0:00:04\n",
      "   ----------------------------- ---------- 28.6/39.4 MB 3.7 MB/s eta 0:00:03\n",
      "   ----------------------------- ---------- 29.4/39.4 MB 3.7 MB/s eta 0:00:03\n",
      "   ------------------------------ --------- 30.1/39.4 MB 3.7 MB/s eta 0:00:03\n",
      "   ------------------------------- -------- 30.9/39.4 MB 3.7 MB/s eta 0:00:03\n",
      "   ------------------------------- -------- 31.5/39.4 MB 3.7 MB/s eta 0:00:03\n",
      "   -------------------------------- ------- 32.2/39.4 MB 3.7 MB/s eta 0:00:02\n",
      "   --------------------------------- ------ 33.0/39.4 MB 3.7 MB/s eta 0:00:02\n",
      "   ---------------------------------- ----- 33.6/39.4 MB 3.7 MB/s eta 0:00:02\n",
      "   ---------------------------------- ----- 34.3/39.4 MB 3.7 MB/s eta 0:00:02\n",
      "   ----------------------------------- ---- 35.1/39.4 MB 3.7 MB/s eta 0:00:02\n",
      "   ------------------------------------ --- 35.9/39.4 MB 3.7 MB/s eta 0:00:01\n",
      "   ------------------------------------- -- 37.0/39.4 MB 3.7 MB/s eta 0:00:01\n",
      "   -------------------------------------- - 37.7/39.4 MB 3.7 MB/s eta 0:00:01\n",
      "   ---------------------------------------  38.5/39.4 MB 3.7 MB/s eta 0:00:01\n",
      "   ---------------------------------------  39.3/39.4 MB 3.7 MB/s eta 0:00:01\n",
      "   ---------------------------------------- 39.4/39.4 MB 3.6 MB/s eta 0:00:00\n",
      "Downloading pdfminer_six-20250327-py3-none-any.whl (5.6 MB)\n",
      "   ---------------------------------------- 0.0/5.6 MB ? eta -:--:--\n",
      "   ----- ---------------------------------- 0.8/5.6 MB 4.8 MB/s eta 0:00:02\n",
      "   ----------- ---------------------------- 1.6/5.6 MB 4.4 MB/s eta 0:00:01\n",
      "   ---------------- ----------------------- 2.4/5.6 MB 4.3 MB/s eta 0:00:01\n",
      "   ---------------------- ----------------- 3.1/5.6 MB 4.2 MB/s eta 0:00:01\n",
      "   ----------------------------- ---------- 4.2/5.6 MB 4.3 MB/s eta 0:00:01\n",
      "   ----------------------------------- ---- 5.0/5.6 MB 4.1 MB/s eta 0:00:01\n",
      "   ---------------------------------------- 5.6/5.6 MB 4.0 MB/s eta 0:00:00\n",
      "Downloading pypdf-5.4.0-py3-none-any.whl (302 kB)\n",
      "Downloading pypdfium2-4.30.1-py3-none-win_amd64.whl (3.0 MB)\n",
      "   ---------------------------------------- 0.0/3.0 MB ? eta -:--:--\n",
      "   ---------- ----------------------------- 0.8/3.0 MB 4.2 MB/s eta 0:00:01\n",
      "   ----------------- ---------------------- 1.3/3.0 MB 3.5 MB/s eta 0:00:01\n",
      "   ------------------------------- -------- 2.4/3.0 MB 3.7 MB/s eta 0:00:01\n",
      "   ---------------------------------------- 3.0/3.0 MB 3.5 MB/s eta 0:00:00\n",
      "Installing collected packages: pypdfium2, pypdf, opencv-python-headless, chardet, pdfminer-six, camelot-py\n",
      "  Attempting uninstall: chardet\n",
      "    Found existing installation: chardet 4.0.0\n",
      "    Uninstalling chardet-4.0.0:\n",
      "      Successfully uninstalled chardet-4.0.0\n",
      "Successfully installed camelot-py-1.0.0 chardet-5.2.0 opencv-python-headless-4.11.0.86 pdfminer-six-20250327 pypdf-5.4.0 pypdfium2-4.30.1\n",
      "Collecting tk\n",
      "  Downloading tk-0.1.0-py3-none-any.whl.metadata (693 bytes)\n",
      "Downloading tk-0.1.0-py3-none-any.whl (3.9 kB)\n",
      "Installing collected packages: tk\n",
      "Successfully installed tk-0.1.0\n"
     ]
    }
   ],
   "source": [
    "!pip install ghostscript\n",
    "!pip install camelot-py\n",
    "!pip install tk"
   ]
  },
  {
   "cell_type": "code",
   "execution_count": 9,
   "id": "cade7037-d6b6-4a9b-a1ed-b82b0484b5a5",
   "metadata": {},
   "outputs": [],
   "source": [
    "import camelot"
   ]
  },
  {
   "cell_type": "code",
   "execution_count": 11,
   "id": "93b9b43d-0092-45cc-9ac0-54bd8f59fbfd",
   "metadata": {},
   "outputs": [
    {
     "name": "stderr",
     "output_type": "stream",
     "text": [
      "CropBox missing from /Page, defaulting to MediaBox\n"
     ]
    },
    {
     "name": "stdout",
     "output_type": "stream",
     "text": [
      "<TableList n=1>\n"
     ]
    }
   ],
   "source": [
    "tables=camelot.read_pdf('Data/200618_5th_revised_A_Level_in_IT.pdf',pages='9')\n",
    "print(tables)"
   ]
  },
  {
   "cell_type": "code",
   "execution_count": 13,
   "id": "b705b6b7-877c-4828-bb3d-5d738ab79fca",
   "metadata": {},
   "outputs": [],
   "source": [
    "tables.export('A_level.csv',f='csv', compress=True)\n",
    "#only the First table to export\n",
    "tables[0].to_csv('A_level.csv')"
   ]
  }
 ],
 "metadata": {
  "kernelspec": {
   "display_name": "Python [conda env:base] *",
   "language": "python",
   "name": "conda-base-py"
  },
  "language_info": {
   "codemirror_mode": {
    "name": "ipython",
    "version": 3
   },
   "file_extension": ".py",
   "mimetype": "text/x-python",
   "name": "python",
   "nbconvert_exporter": "python",
   "pygments_lexer": "ipython3",
   "version": "3.12.7"
  }
 },
 "nbformat": 4,
 "nbformat_minor": 5
}
